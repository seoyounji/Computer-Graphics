{
 "cells": [
  {
   "cell_type": "code",
   "execution_count": 1,
   "metadata": {},
   "outputs": [],
   "source": [
    "import cv2\n",
    "import numpy as np\n",
    "import random\n",
    "from PIL import Image\n",
    "import matplotlib.pyplot as plt"
   ]
  },
  {
   "cell_type": "code",
   "execution_count": 2,
   "metadata": {},
   "outputs": [],
   "source": [
    "#read input image as gray scale\n",
    "image = cv2.imread(\"lena.png\")"
   ]
  },
  {
   "cell_type": "code",
   "execution_count": 3,
   "metadata": {},
   "outputs": [
    {
     "data": {
      "text/plain": [
       "True"
      ]
     },
     "execution_count": 3,
     "metadata": {},
     "output_type": "execute_result"
    }
   ],
   "source": [
    "#unsharpening - frequency domain\n",
    "frequency_kernel = (np.array([[-1, -1, -1],\n",
    "                    [-1, 8, -1],\n",
    "                    [-1, -1, -1]],\n",
    "                  dtype = 'float'))\n",
    "frequency_filtered = cv2.filter2D(src=image, kernel=frequency_kernel, ddepth=-1)\n",
    "frequency_sharpening =cv2.addWeighted(image.copy(),1.1,frequency_filtered,0.4,0,image.copy())\n",
    "cv2.imwrite(\"frequency_unsharpening.jpg\",frequency_sharpening)"
   ]
  },
  {
   "cell_type": "code",
   "execution_count": 4,
   "metadata": {},
   "outputs": [
    {
     "data": {
      "text/plain": [
       "True"
      ]
     },
     "execution_count": 4,
     "metadata": {},
     "output_type": "execute_result"
    }
   ],
   "source": [
    "#unsharpening - spatial domain\n",
    "alpha = 2.5\n",
    "spatial_kernel_1 = (np.array([[0, 0, 0],\n",
    "                            [0, 9, 0],\n",
    "                            [0, 0, 0]],\n",
    "                          dtype = 'float'))\n",
    "spatial_kernel_2 = (np.array([[1, 1, 1],\n",
    "                            [1, 1, 1],\n",
    "                            [1, 1, 1]],\n",
    "                          dtype = 'float'))\n",
    "spatial_kernel_3 = (spatial_kernel_1 + alpha * (spatial_kernel_1-spatial_kernel_2))/9\n",
    "spatial_filtered = cv2.filter2D(src=image, kernel=spatial_kernel_3, ddepth=-1)\n",
    "cv2.imwrite(\"spatial_unsharpening.jpg\",spatial_filtered)"
   ]
  },
  {
   "cell_type": "code",
   "execution_count": 5,
   "metadata": {},
   "outputs": [
    {
     "data": {
      "text/plain": [
       "True"
      ]
     },
     "execution_count": 5,
     "metadata": {},
     "output_type": "execute_result"
    }
   ],
   "source": [
    "#add salt and pepper noise to original image\n",
    "def MakeSaltAndPepperNoise (Image, SaltNum, PepperNum):\n",
    "    CopyImage = Image.copy()\n",
    "    nChannel = 0\n",
    "\n",
    "    Width = CopyImage.shape[0]\n",
    "    Height = CopyImage.shape[1]\n",
    "    \n",
    "    try:\n",
    "        nChannel = CopyImage.shape[2]\n",
    "    except IndexError:\n",
    "        nChannel = 1\n",
    "            \n",
    "    for Salt in range(0,SaltNum):\n",
    "        RWidth = random.randrange(0,Width)\n",
    "        RHeight = random.randrange(0,Height)\n",
    "        if nChannel > 1:\n",
    "            for c in range(0,nChannel):\n",
    "                CopyImage[RWidth,RHeight,c] = 255\n",
    "        else:\n",
    "            CopyImage[RWidth,RHeight] = 255\n",
    "    for Pepper in range(0,PepperNum):\n",
    "        RWidth = random.randrange(0,Width)\n",
    "        RHeight = random.randrange(0,Height)\n",
    "        if nChannel > 1:\n",
    "            for c in range(0,nChannel):\n",
    "                CopyImage[RWidth,RHeight,c] = 0\n",
    "        else:\n",
    "            CopyImage[RWidth,RHeight] = 0\n",
    "            \n",
    "    return CopyImage\n",
    "\n",
    "cv2.imwrite(\"noise_image.jpg\",MakeSaltAndPepperNoise(image,400,400))"
   ]
  },
  {
   "cell_type": "code",
   "execution_count": 6,
   "metadata": {},
   "outputs": [],
   "source": [
    "def sliding_window(arr,shape):\n",
    "    n = np.array(arr.shape)\n",
    "    o = n - shape + 1\n",
    "    strides = arr.strides\n",
    "    new_shape = np.concatenate((o,shape),axis=0)\n",
    "    new_strides = np.concatenate((strides,strides), axis=0)\n",
    "    return np.lib.stride_tricks.as_strided(arr,new_shape,new_strides)"
   ]
  },
  {
   "cell_type": "code",
   "execution_count": 12,
   "metadata": {},
   "outputs": [],
   "source": [
    "image = Image.open(\"lena.png\")\n",
    "li_r=list(image.getdata(band=0))\n",
    "arr_r=np.array(li_r,dtype=\"uint8\")\n",
    "li_g=list(image.getdata(band=1))\n",
    "arr_g=np.array(li_g,dtype=\"uint8\")\n",
    "li_b=list(image.getdata(band=2))\n",
    "arr_b=np.array(li_b,dtype=\"uint8\")\n",
    "\n",
    "reshaper=arr_r.reshape(220,220) #size flipped so it reshapes correctly\n",
    "reshapeb=arr_b.reshape(220,220)\n",
    "reshapeg=arr_g.reshape(220,220) "
   ]
  },
  {
   "cell_type": "code",
   "execution_count": 13,
   "metadata": {},
   "outputs": [],
   "source": [
    "#median filter 3x3 \n",
    "for i in range (220-2): \n",
    "    for j in range (220-2): \n",
    "        reshaper[i+1,j+1] = np.median(sliding_window(reshaper,np.array([3,3]))[i,j])\n",
    "        reshapeg[i+1,j+1] = np.median(sliding_window(reshapeg,np.array([3,3]))[i,j])\n",
    "        reshapeb[i+1,j+1] = np.median(sliding_window(reshapeb,np.array([3,3]))[i,j])\n",
    "\n",
    "r_image = Image.fromarray(reshaper,mode=None)\n",
    "g_image = Image.fromarray(reshapeg,mode=None)\n",
    "b_image = Image.fromarray(reshapeb,mode=None)\n",
    "merged=Image.merge(\"RGB\",(r_image,g_image,b_image))\n",
    "merged.save('median_filter_3.jpg')"
   ]
  },
  {
   "cell_type": "code",
   "execution_count": 14,
   "metadata": {},
   "outputs": [],
   "source": [
    "reshaper=arr_r.reshape(220,220) #size flipped so it reshapes correctly\n",
    "reshapeb=arr_b.reshape(220,220)\n",
    "reshapeg=arr_g.reshape(220,220) \n",
    "\n",
    "#median filter 5x5\n",
    "for i in range (220-4): \n",
    "    for j in range (220-4): \n",
    "        reshaper[i+1,j+1] = np.median(sliding_window(reshaper,np.array([5,5]))[i,j])\n",
    "        reshapeg[i+1,j+1] = np.median(sliding_window(reshapeg,np.array([5,5]))[i,j])\n",
    "        reshapeb[i+1,j+1] = np.median(sliding_window(reshapeb,np.array([5,5]))[i,j])\n",
    "\n",
    "r_image = Image.fromarray(reshaper,mode=None)\n",
    "g_image = Image.fromarray(reshapeg,mode=None)\n",
    "b_image = Image.fromarray(reshapeb,mode=None)\n",
    "merged=Image.merge(\"RGB\",(r_image,g_image,b_image))\n",
    "\n",
    "merged.save('median_filter_5.jpg')"
   ]
  },
  {
   "cell_type": "code",
   "execution_count": null,
   "metadata": {},
   "outputs": [],
   "source": []
  }
 ],
 "metadata": {
  "kernelspec": {
   "display_name": "Python 3",
   "language": "python",
   "name": "python3"
  },
  "language_info": {
   "codemirror_mode": {
    "name": "ipython",
    "version": 3
   },
   "file_extension": ".py",
   "mimetype": "text/x-python",
   "name": "python",
   "nbconvert_exporter": "python",
   "pygments_lexer": "ipython3",
   "version": "3.7.3"
  }
 },
 "nbformat": 4,
 "nbformat_minor": 2
}
